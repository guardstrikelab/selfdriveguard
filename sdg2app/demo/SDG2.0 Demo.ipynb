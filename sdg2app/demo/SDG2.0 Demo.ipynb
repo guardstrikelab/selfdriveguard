{
 "cells": [
  {
   "cell_type": "markdown",
   "metadata": {},
   "source": [
    "# SDG 2.0 Demo"
   ]
  },
  {
   "cell_type": "code",
   "execution_count": null,
   "metadata": {},
   "outputs": [],
   "source": [
    "# config\n",
    "url = \"http://127.0.0.1:8000\"\n",
    "username = \"test-tay-5@sdg.com\"\n",
    "password = \"pytest**pwd\""
   ]
  },
  {
   "cell_type": "code",
   "execution_count": null,
   "metadata": {},
   "outputs": [],
   "source": [
    "import requests\n",
    "import json\n",
    "session = requests.session() "
   ]
  },
  {
   "cell_type": "code",
   "execution_count": null,
   "metadata": {},
   "outputs": [],
   "source": [
    "# resgister\n",
    "register_response = session.post(url + \"/auth/register\", json={\n",
    "    \"email\": username,\n",
    "    \"password\": password,\n",
    "    \"is_active\": True,\n",
    "    \"is_superuser\": True,\n",
    "    \"is_verified\": True\n",
    "})\n",
    "\n",
    "# login\n",
    "login_response = session.post(url + \"/auth/jwt/login\", \n",
    "data={'username':username,'password':password},\n",
    "headers={'Content-Type':'application/x-www-form-urlencoded'})\n",
    "auth_value = '{} {}'.format(login_response.json()['token_type'], login_response.json()['access_token'])\n",
    "print(auth_value)"
   ]
  },
  {
   "cell_type": "code",
   "execution_count": null,
   "metadata": {},
   "outputs": [],
   "source": [
    "# current user info\n",
    "response = session.get(url+\"/users/me\",\n",
    "                      headers={'Authorization':auth_value})\n",
    "rootfolder_id = response.json()['rootfolder']\n",
    "print(\"#\"*20 + \" Current user info:\")\n",
    "print(json.dumps(response.json(), indent=2))"
   ]
  },
  {
   "cell_type": "code",
   "execution_count": null,
   "metadata": {},
   "outputs": [],
   "source": [
    "# show folder info\n",
    "def get_folder(folder_id):\n",
    "    response = session.get(url+\"/scen-folders/{}\".format(folder_id),\n",
    "                          headers={'Authorization':auth_value})\n",
    "    return response\n",
    "print(\"#\"*20 + \" Root folder of the current user:\")\n",
    "response = get_folder(rootfolder_id)\n",
    "print(json.dumps(response.json(), indent=2))"
   ]
  },
  {
   "cell_type": "code",
   "execution_count": null,
   "metadata": {},
   "outputs": [],
   "source": [
    "# create scenario\n",
    "## read cartel script\n",
    "with open('./jam.cartel') as f:\n",
    "    script = f.read()\n",
    "#     escaped_script = json.dumps(script)\n",
    "## send post scenario request\n",
    "data = {\n",
    "          \"script\": script,\n",
    "          \"language\": \"cartel\",\n",
    "          \"map_name\": \"Town03\",\n",
    "          \"name\": \"follwing\",\n",
    "          \"tags\": [\n",
    "            \"test\"\n",
    "          ],\n",
    "          \"categories\": [\n",
    "            \"SDGCAP\"\n",
    "          ]\n",
    "        }\n",
    "response = session.post(url + \"/scen-folders/{}/scenarios\".format(rootfolder_id), \n",
    "data=json.dumps(data),\n",
    "headers={'Authorization':auth_value, 'Content-Type':'application/json'})\n",
    "## show result\n",
    "scenario1 = response.json()\n",
    "scenario_id = scenario1[\"id\"]\n",
    "print(\"#\"*20 + \" The new scenario created in root folder:\")\n",
    "print(json.dumps(scenario1, indent=2))\n",
    "print(\"#\"*20 + \" Check the root folder's scenarios_id list:\")\n",
    "response = get_folder(rootfolder_id)\n",
    "print(json.dumps(response.json(), indent=2))"
   ]
  },
  {
   "cell_type": "code",
   "execution_count": null,
   "metadata": {},
   "outputs": [],
   "source": [
    "# create task\n",
    "def create_task(use_scenario_id,use_scenario, ads, time_limit):\n",
    "    data = {\n",
    "              \"use_scenario_id\": use_scenario_id,\n",
    "              \"use_scenario\": use_scenario,\n",
    "              \"ads\": ads,\n",
    "              \"time_limit\": time_limit\n",
    "            }\n",
    "    response = session.post(url + \"/tasks\", \n",
    "                            data=json.dumps(data),\n",
    "                            headers={'Authorization':auth_value, 'Content-Type':'application/json'})\n",
    "    return response\n",
    "## create a task based on the scenarios created above called \"follwing\"\n",
    "response = create_task(scenario_id, None, \"autoware\", 100)\n",
    "task1_id = response.json()[\"id\"]\n",
    "print(\"#\"*20 + \" The first task:\")\n",
    "task1 = response.json()\n",
    "# task1[\"use_scenario\"][\"script\"]=\"***Too long...... omitted\"\n",
    "print(json.dumps(task1, indent=2))\n",
    "\n",
    "## create another task based on the same scanario\n",
    "response = create_task(None, scenario1, \"autoware\", 80)\n",
    "task2_id = response.json()[\"id\"]\n",
    "print(\"#\"*20 + \" The second task:\")\n",
    "task2 = response.json()\n",
    "# task2[\"use_scenario\"][\"script\"]=\"***Too long...... omitted\"\n",
    "print(json.dumps(task2, indent=2))"
   ]
  },
  {
   "cell_type": "code",
   "execution_count": null,
   "metadata": {},
   "outputs": [],
   "source": [
    "# create job\n",
    "def create_job(desc, tasks_id):\n",
    "    data = {\n",
    "              \"desc\": desc,\n",
    "              \"tasks_id\": tasks_id,\n",
    "            }\n",
    "    response = session.post(url + \"/jobs\", \n",
    "                            data=json.dumps(data),\n",
    "                            headers={'Authorization':auth_value, 'Content-Type':'application/json'})\n",
    "    return response\n",
    "response = create_job(\"Demo job with two tasks\", [task1_id, task2_id])\n",
    "job_id = response.json()['id']\n",
    "print(json.dumps(response.json(), indent=2))"
   ]
  },
  {
   "cell_type": "code",
   "execution_count": null,
   "metadata": {},
   "outputs": [],
   "source": [
    "# run job\n",
    "def run_job(job_id):\n",
    "    response = session.post(url + \"/jobs/{}/run\".format(job_id), \n",
    "                            headers={'Authorization':auth_value})\n",
    "    return response\n",
    "response = run_job(job_id)\n",
    "print(json.dumps(response.json(), indent=2))"
   ]
  },
  {
   "cell_type": "code",
   "execution_count": null,
   "metadata": {},
   "outputs": [],
   "source": [
    "# watch task status\n",
    "def get_task(task_id):\n",
    "    response = session.get(url+\"/tasks/{}\".format(task_id),\n",
    "                          headers={'Authorization':auth_value})\n",
    "    return response\n",
    "task1 = get_task(task1_id).json()\n",
    "print(\"The status of the first task:{}\".format(task1['status']))\n",
    "if task1['result']:\n",
    "    print(task1['result'])\n",
    "print(\"=\"*16)\n",
    "task2 = get_task(task2_id).json()\n",
    "print(\"The status of the second task:{}\".format(task2['status']))\n",
    "if task2['result']:\n",
    "    print(task2['result'])"
   ]
  },
  {
   "cell_type": "code",
   "execution_count": null,
   "metadata": {},
   "outputs": [],
   "source": []
  }
 ],
 "metadata": {
  "kernelspec": {
   "display_name": "Python 3",
   "language": "python",
   "name": "python3"
  },
  "language_info": {
   "codemirror_mode": {
    "name": "ipython",
    "version": 3
   },
   "file_extension": ".py",
   "mimetype": "text/x-python",
   "name": "python",
   "nbconvert_exporter": "python",
   "pygments_lexer": "ipython3",
   "version": "3.8.5"
  }
 },
 "nbformat": 4,
 "nbformat_minor": 2
}
